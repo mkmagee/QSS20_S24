{
 "cells": [
  {
   "cell_type": "markdown",
   "metadata": {},
   "source": [
    "# Problem set 4: APIs, SQL, and supervised machine learning\n",
    "\n",
    "**Total points (without extra credit)**: 48 \n",
    "\n",
    "\n",
    "## Resources from class\n",
    "\n",
    "### APIs\n",
    "- [Lecture slides](https://docs.google.com/presentation/d/1eblPOhpOL1HDFk3XOh3KvcrFceJ4pwZNUU_fvU8i7uo/edit#slide=id.p)\n",
    "- [Activity solutions](https://github.com/herbertfreeze/QSS_Public/blob/main/activities/solutions/06_apis_solutions.ipynb)\n",
    "\n",
    "\n",
    "### Supervised ML\n",
    "- [Lecture slides 1](https://docs.google.com/presentation/d/1V6X9aYkYLvyh3Ea0ZSn3qkttqKz7OOPkfvbqYybMi5Q/edit#slide=id.p)\n",
    "- [Lecture slides 2](https://docs.google.com/presentation/d/13xJTI_GZ2HZYI9OSmezwLUXXFxIrjwHXKz50QUjBF0w/edit)\n",
    "- [Intro activity solutions](https://github.com/herbertfreeze/QSS_Public/blob/main/activities/solutions/08_ML_intro_activity_solutions.ipynb)\n",
    "- [Part II activity solutions](https://github.com/herbertfreeze/QSS_Public/blob/main/activities/solutions/08_ML_optimization_activity_solutions.ipynb)\n",
    "- [DataCamp course](https://app.datacamp.com/learn/courses/supervised-learning-with-scikit-learn)\n",
    "\n",
    "### SQL\n",
    "- [Lecture slides](https://docs.google.com/presentation/d/1HHgrkFtuhGIaPNMd1EOiM-8VtgnF0cwjMcmah8oWmWA/edit?usp=sharing)\n",
    "- [Example code](https://github.com/herbertfreeze/QSS_Public/blob/main/activities/solutions/09_SQL_examplecode.ipynb)\n",
    "- [Activity solutions](https://github.com/herbertfreeze/QSS_Public/blob/main/activities/solutions/09_SQL_activity_solutions.ipynb)\n",
    "- [DataCamp course](https://app.datacamp.com/learn/courses/introduction-to-sql)"
   ]
  },
  {
   "cell_type": "markdown",
   "metadata": {},
   "source": [
    "# Prep work: change SQL dataset\n",
    "\n",
    "- Place it in [the same credentials yaml file on GitHub that contains the SQL database access information](https://github.com/herbertfreeze/QSS_public/blob/main/activities/09_db_cred.yaml) (password, host, etc.) \n",
    "    - Name the combined credentials file something appropriate (feel free to get creative)\n",
    "    - Change the database name from `sentencing` to `math_gencompare`"
   ]
  },
  {
   "cell_type": "markdown",
   "metadata": {},
   "source": [
    "## 0.0 Import packages"
   ]
  },
  {
   "cell_type": "markdown",
   "metadata": {},
   "source": [
    "**Note you need to install some of the packages imported below (see the comments).**"
   ]
  },
  {
   "cell_type": "code",
   "execution_count": 2,
   "metadata": {},
   "outputs": [],
   "source": [
    "## helpful packages\n",
    "import pandas as pd\n",
    "import numpy as np\n",
    "import random\n",
    "import re\n",
    "import string\n",
    "import requests\n",
    "import plotnine \n",
    "from plotnine import *\n",
    "import matplotlib.pyplot as plt\n",
    "import yaml\n",
    "#import warnings\n",
    "#warnings.filterwarnings(\"ignore\")\n",
    "\n",
    "## note: you may need to install these using !pip install\n",
    "#!pip install census\n",
    "#!pip install us\n",
    "import census\n",
    "from census import Census\n",
    "import us\n",
    "from us import states\n",
    "import mysql.connector\n",
    "\n",
    "## sklearn imports\n",
    "from sklearn.linear_model import LogisticRegression, LogisticRegressionCV\n",
    "from sklearn.metrics import accuracy_score, f1_score, precision_score, recall_score\n",
    "from sklearn.tree import DecisionTreeClassifier\n",
    "from sklearn import tree\n",
    "from sklearn.ensemble import RandomForestClassifier, GradientBoostingClassifier, AdaBoostClassifier\n",
    "from sklearn import preprocessing\n",
    "from sklearn.preprocessing import StandardScaler\n",
    "\n",
    "## print mult things\n",
    "from IPython.core.interactiveshell import InteractiveShell\n",
    "InteractiveShell.ast_node_interactivity = \"all\"\n",
    "\n",
    "\n",
    "def load_creds(path: str):\n",
    "    with open(path, 'r') as stream:\n",
    "        try:\n",
    "            creds = yaml.safe_load(stream)\n",
    "        except yaml.YAMLError as exc:\n",
    "            print(exc)\n",
    "    return(creds)\n",
    "\n",
    "pd.set_option('display.max_rows', 500)\n",
    "pd.set_option('display.max_columns', 500)\n",
    "pd.set_option('display.width', 1000)\n",
    "pd.set_option('display.max_colwidth', None)\n",
    "\n",
    "\n"
   ]
  },
  {
   "cell_type": "markdown",
   "metadata": {},
   "source": [
    "# 1. Write a wrapper function to pull data from the NAEP API (12 points)\n",
    "\n",
    "In the class activity on APIs (see link above), we practiced pulling from the API for the National Assessment of Educational Progress (NAEP), \"America's report card\" of test scores. We pulled a small amount of data at the national level (writing scores by gender) using a query where the parameters were hardcoded.\n",
    "    \n",
    "In this problem, we'll practice pulling a larger set of data and writing a wrapper function.\n",
    "    \n",
    "As a reminder, the documentation is here: https://www.nationsreportcard.gov/api_documentation.aspx\n",
    "\n",
    "The base link is: https://www.nationsreportcard.gov/Dataservice/GetAdhocData.aspx"
   ]
  },
  {
   "cell_type": "markdown",
   "metadata": {},
   "source": [
    "## 1.1 Write a query to pull 8th-grade mathematics scores in 2015 from the state of California (CA) by gender (1 point)\n",
    "\n",
    "- Subject: mathematics \n",
    "- Subscale: MRPCM composite scale \n",
    "- Grade: 8\n",
    "- Year: 2015\n",
    "- grouping variable: GENDER \n",
    "- Jurisdiction: CA \n",
    "- stattype = MN (for mean)\n",
    "\n",
    "Print the output in dataframe format and briefly interpret; what do scores look like between the genders?"
   ]
  },
  {
   "cell_type": "code",
   "execution_count": 2,
   "metadata": {},
   "outputs": [
    {
     "data": {
      "text/plain": [
       "'https://www.nationsreportcard.gov/Dataservice/GetAdhocData.aspx?type=data&subject=mathematics&grade=8&subscale=MRPCM&variable=GENDER&jurisdiction=CA&stattype=MN:MN&Year=2015'"
      ]
     },
     "execution_count": 2,
     "metadata": {},
     "output_type": "execute_result"
    },
    {
     "data": {
      "text/plain": [
       "<Response [200]>"
      ]
     },
     "execution_count": 2,
     "metadata": {},
     "output_type": "execute_result"
    },
    {
     "data": {
      "text/plain": [
       "{'status': 200,\n",
       " 'result': [{'year': 2015,\n",
       "   'sample': 'R3',\n",
       "   'yearSampleLabel': '2015',\n",
       "   'Cohort': 2,\n",
       "   'CohortLabel': 'Grade 8',\n",
       "   'stattype': 'MN:MN',\n",
       "   'subject': 'MAT',\n",
       "   'grade': 8,\n",
       "   'scale': 'MRPCM',\n",
       "   'jurisdiction': 'CA',\n",
       "   'jurisLabel': 'California',\n",
       "   'variable': 'GENDER',\n",
       "   'variableLabel': 'Gender',\n",
       "   'varValue': '1',\n",
       "   'varValueLabel': 'Male',\n",
       "   'value': 275.020976636682,\n",
       "   'isStatDisplayable': 1,\n",
       "   'errorFlag': 0},\n",
       "  {'year': 2015,\n",
       "   'sample': 'R3',\n",
       "   'yearSampleLabel': '2015',\n",
       "   'Cohort': 2,\n",
       "   'CohortLabel': 'Grade 8',\n",
       "   'stattype': 'MN:MN',\n",
       "   'subject': 'MAT',\n",
       "   'grade': 8,\n",
       "   'scale': 'MRPCM',\n",
       "   'jurisdiction': 'CA',\n",
       "   'jurisLabel': 'California',\n",
       "   'variable': 'GENDER',\n",
       "   'variableLabel': 'Gender',\n",
       "   'varValue': '2',\n",
       "   'varValueLabel': 'Female',\n",
       "   'value': 275.638637274477,\n",
       "   'isStatDisplayable': 1,\n",
       "   'errorFlag': 0}]}"
      ]
     },
     "execution_count": 2,
     "metadata": {},
     "output_type": "execute_result"
    },
    {
     "data": {
      "text/html": [
       "<div>\n",
       "<style scoped>\n",
       "    .dataframe tbody tr th:only-of-type {\n",
       "        vertical-align: middle;\n",
       "    }\n",
       "\n",
       "    .dataframe tbody tr th {\n",
       "        vertical-align: top;\n",
       "    }\n",
       "\n",
       "    .dataframe thead th {\n",
       "        text-align: right;\n",
       "    }\n",
       "</style>\n",
       "<table border=\"1\" class=\"dataframe\">\n",
       "  <thead>\n",
       "    <tr style=\"text-align: right;\">\n",
       "      <th></th>\n",
       "      <th>year</th>\n",
       "      <th>sample</th>\n",
       "      <th>yearSampleLabel</th>\n",
       "      <th>Cohort</th>\n",
       "      <th>CohortLabel</th>\n",
       "      <th>stattype</th>\n",
       "      <th>subject</th>\n",
       "      <th>grade</th>\n",
       "      <th>scale</th>\n",
       "      <th>jurisdiction</th>\n",
       "      <th>jurisLabel</th>\n",
       "      <th>variable</th>\n",
       "      <th>variableLabel</th>\n",
       "      <th>varValue</th>\n",
       "      <th>varValueLabel</th>\n",
       "      <th>value</th>\n",
       "      <th>isStatDisplayable</th>\n",
       "      <th>errorFlag</th>\n",
       "    </tr>\n",
       "  </thead>\n",
       "  <tbody>\n",
       "    <tr>\n",
       "      <th>0</th>\n",
       "      <td>2015</td>\n",
       "      <td>R3</td>\n",
       "      <td>2015</td>\n",
       "      <td>2</td>\n",
       "      <td>Grade 8</td>\n",
       "      <td>MN:MN</td>\n",
       "      <td>MAT</td>\n",
       "      <td>8</td>\n",
       "      <td>MRPCM</td>\n",
       "      <td>CA</td>\n",
       "      <td>California</td>\n",
       "      <td>GENDER</td>\n",
       "      <td>Gender</td>\n",
       "      <td>1</td>\n",
       "      <td>Male</td>\n",
       "      <td>275.020977</td>\n",
       "      <td>1</td>\n",
       "      <td>0</td>\n",
       "    </tr>\n",
       "    <tr>\n",
       "      <th>1</th>\n",
       "      <td>2015</td>\n",
       "      <td>R3</td>\n",
       "      <td>2015</td>\n",
       "      <td>2</td>\n",
       "      <td>Grade 8</td>\n",
       "      <td>MN:MN</td>\n",
       "      <td>MAT</td>\n",
       "      <td>8</td>\n",
       "      <td>MRPCM</td>\n",
       "      <td>CA</td>\n",
       "      <td>California</td>\n",
       "      <td>GENDER</td>\n",
       "      <td>Gender</td>\n",
       "      <td>2</td>\n",
       "      <td>Female</td>\n",
       "      <td>275.638637</td>\n",
       "      <td>1</td>\n",
       "      <td>0</td>\n",
       "    </tr>\n",
       "  </tbody>\n",
       "</table>\n",
       "</div>"
      ],
      "text/plain": [
       "   year sample yearSampleLabel  Cohort CohortLabel stattype subject  grade  scale jurisdiction  jurisLabel variable variableLabel varValue varValueLabel       value  isStatDisplayable  errorFlag\n",
       "0  2015     R3            2015       2     Grade 8    MN:MN     MAT      8  MRPCM           CA  California   GENDER        Gender        1          Male  275.020977                  1          0\n",
       "1  2015     R3            2015       2     Grade 8    MN:MN     MAT      8  MRPCM           CA  California   GENDER        Gender        2        Female  275.638637                  1          0"
      ]
     },
     "execution_count": 2,
     "metadata": {},
     "output_type": "execute_result"
    }
   ],
   "source": [
    "# Create query to pull data\n",
    "naep_query_math_2015 = (\n",
    "    'https://www.nationsreportcard.gov/'\n",
    "    'Dataservice/GetAdhocData.aspx?'\n",
    "    'type=data&subject=mathematics&grade=8&'\n",
    "    'subscale=MRPCM&variable=GENDER&jurisdiction=CA&stattype=MN:MN&Year=2015'\n",
    ")\n",
    "naep_query_math_2015 \n",
    "\n",
    "# Use requests to call API\n",
    "naep_query_math_2015_resp = requests.get(naep_query_math_2015)\n",
    "naep_query_math_2015_resp\n",
    "\n",
    "# Get json contents of the response\n",
    "naep_query_math_2015_json = naep_query_math_2015_resp.json()\n",
    "naep_query_math_2015_json\n",
    "\n",
    "# Turn result into a dataframe\n",
    "naep_math_2015_df = pd.DataFrame(naep_query_math_2015_json['result'])\n",
    "naep_math_2015_df"
   ]
  },
  {
   "cell_type": "markdown",
   "metadata": {},
   "source": [
    "### What do scores look like between the genders?"
   ]
  },
  {
   "cell_type": "markdown",
   "metadata": {},
   "source": [
    "The scores look virtualy the same between the genders, with males have a slightly lower mean score (275.02) compared to females (275.64). The difference is so slight (difference female-male = 0.62, most likely statistically insignificant). "
   ]
  },
  {
   "cell_type": "markdown",
   "metadata": {},
   "source": [
    "## 1.2 Write a query to pull 8th-grade mathematics scores in 2013, 2015, 2017, and 2019 from California by gender (1 point)\n",
    "\n",
    "Same as 1.1 but pull the years 2013, 2015, 2017, and 2019 (search documentation for how to combine) in one query"
   ]
  },
  {
   "cell_type": "code",
   "execution_count": 3,
   "metadata": {},
   "outputs": [
    {
     "data": {
      "text/plain": [
       "'https://www.nationsreportcard.gov/Dataservice/GetAdhocData.aspx?type=data&subject=mathematics&grade=8&subscale=MRPCM&variable=GENDER&jurisdiction=CA&stattype=MN:MN&Year=2013,2015,2017,2019'"
      ]
     },
     "execution_count": 3,
     "metadata": {},
     "output_type": "execute_result"
    },
    {
     "data": {
      "text/plain": [
       "<Response [200]>"
      ]
     },
     "execution_count": 3,
     "metadata": {},
     "output_type": "execute_result"
    },
    {
     "data": {
      "text/plain": [
       "{'status': 200,\n",
       " 'result': [{'year': 2013,\n",
       "   'sample': 'R3',\n",
       "   'yearSampleLabel': '2013',\n",
       "   'Cohort': 2,\n",
       "   'CohortLabel': 'Grade 8',\n",
       "   'stattype': 'MN:MN',\n",
       "   'subject': 'MAT',\n",
       "   'grade': 8,\n",
       "   'scale': 'MRPCM',\n",
       "   'jurisdiction': 'CA',\n",
       "   'jurisLabel': 'California',\n",
       "   'variable': 'GENDER',\n",
       "   'variableLabel': 'Gender',\n",
       "   'varValue': '1',\n",
       "   'varValueLabel': 'Male',\n",
       "   'value': 277.167170641967,\n",
       "   'isStatDisplayable': 1,\n",
       "   'errorFlag': 0},\n",
       "  {'year': 2013,\n",
       "   'sample': 'R3',\n",
       "   'yearSampleLabel': '2013',\n",
       "   'Cohort': 2,\n",
       "   'CohortLabel': 'Grade 8',\n",
       "   'stattype': 'MN:MN',\n",
       "   'subject': 'MAT',\n",
       "   'grade': 8,\n",
       "   'scale': 'MRPCM',\n",
       "   'jurisdiction': 'CA',\n",
       "   'jurisLabel': 'California',\n",
       "   'variable': 'GENDER',\n",
       "   'variableLabel': 'Gender',\n",
       "   'varValue': '2',\n",
       "   'varValueLabel': 'Female',\n",
       "   'value': 274.597823860242,\n",
       "   'isStatDisplayable': 1,\n",
       "   'errorFlag': 0},\n",
       "  {'year': 2015,\n",
       "   'sample': 'R3',\n",
       "   'yearSampleLabel': '2015',\n",
       "   'Cohort': 2,\n",
       "   'CohortLabel': 'Grade 8',\n",
       "   'stattype': 'MN:MN',\n",
       "   'subject': 'MAT',\n",
       "   'grade': 8,\n",
       "   'scale': 'MRPCM',\n",
       "   'jurisdiction': 'CA',\n",
       "   'jurisLabel': 'California',\n",
       "   'variable': 'GENDER',\n",
       "   'variableLabel': 'Gender',\n",
       "   'varValue': '1',\n",
       "   'varValueLabel': 'Male',\n",
       "   'value': 275.020976636682,\n",
       "   'isStatDisplayable': 1,\n",
       "   'errorFlag': 0},\n",
       "  {'year': 2015,\n",
       "   'sample': 'R3',\n",
       "   'yearSampleLabel': '2015',\n",
       "   'Cohort': 2,\n",
       "   'CohortLabel': 'Grade 8',\n",
       "   'stattype': 'MN:MN',\n",
       "   'subject': 'MAT',\n",
       "   'grade': 8,\n",
       "   'scale': 'MRPCM',\n",
       "   'jurisdiction': 'CA',\n",
       "   'jurisLabel': 'California',\n",
       "   'variable': 'GENDER',\n",
       "   'variableLabel': 'Gender',\n",
       "   'varValue': '2',\n",
       "   'varValueLabel': 'Female',\n",
       "   'value': 275.638637274477,\n",
       "   'isStatDisplayable': 1,\n",
       "   'errorFlag': 0},\n",
       "  {'year': 2017,\n",
       "   'sample': 'R3',\n",
       "   'yearSampleLabel': '2017',\n",
       "   'Cohort': 2,\n",
       "   'CohortLabel': 'Grade 8',\n",
       "   'stattype': 'MN:MN',\n",
       "   'subject': 'MAT',\n",
       "   'grade': 8,\n",
       "   'scale': 'MRPCM',\n",
       "   'jurisdiction': 'CA',\n",
       "   'jurisLabel': 'California',\n",
       "   'variable': 'GENDER',\n",
       "   'variableLabel': 'Gender',\n",
       "   'varValue': '1',\n",
       "   'varValueLabel': 'Male',\n",
       "   'value': 276.60870373867,\n",
       "   'isStatDisplayable': 1,\n",
       "   'errorFlag': 0},\n",
       "  {'year': 2017,\n",
       "   'sample': 'R3',\n",
       "   'yearSampleLabel': '2017',\n",
       "   'Cohort': 2,\n",
       "   'CohortLabel': 'Grade 8',\n",
       "   'stattype': 'MN:MN',\n",
       "   'subject': 'MAT',\n",
       "   'grade': 8,\n",
       "   'scale': 'MRPCM',\n",
       "   'jurisdiction': 'CA',\n",
       "   'jurisLabel': 'California',\n",
       "   'variable': 'GENDER',\n",
       "   'variableLabel': 'Gender',\n",
       "   'varValue': '2',\n",
       "   'varValueLabel': 'Female',\n",
       "   'value': 276.669430435038,\n",
       "   'isStatDisplayable': 1,\n",
       "   'errorFlag': 0},\n",
       "  {'year': 2019,\n",
       "   'sample': 'R3',\n",
       "   'yearSampleLabel': '2019',\n",
       "   'Cohort': 2,\n",
       "   'CohortLabel': 'Grade 8',\n",
       "   'stattype': 'MN:MN',\n",
       "   'subject': 'MAT',\n",
       "   'grade': 8,\n",
       "   'scale': 'MRPCM',\n",
       "   'jurisdiction': 'CA',\n",
       "   'jurisLabel': 'California',\n",
       "   'variable': 'GENDER',\n",
       "   'variableLabel': 'Gender',\n",
       "   'varValue': '1',\n",
       "   'varValueLabel': 'Male',\n",
       "   'value': 274.511628087454,\n",
       "   'isStatDisplayable': 1,\n",
       "   'errorFlag': 0},\n",
       "  {'year': 2019,\n",
       "   'sample': 'R3',\n",
       "   'yearSampleLabel': '2019',\n",
       "   'Cohort': 2,\n",
       "   'CohortLabel': 'Grade 8',\n",
       "   'stattype': 'MN:MN',\n",
       "   'subject': 'MAT',\n",
       "   'grade': 8,\n",
       "   'scale': 'MRPCM',\n",
       "   'jurisdiction': 'CA',\n",
       "   'jurisLabel': 'California',\n",
       "   'variable': 'GENDER',\n",
       "   'variableLabel': 'Gender',\n",
       "   'varValue': '2',\n",
       "   'varValueLabel': 'Female',\n",
       "   'value': 276.721823543785,\n",
       "   'isStatDisplayable': 1,\n",
       "   'errorFlag': 0}]}"
      ]
     },
     "execution_count": 3,
     "metadata": {},
     "output_type": "execute_result"
    }
   ],
   "source": [
    "# Create query to pull data for multiple years\n",
    "naep_query_math = (\n",
    "    'https://www.nationsreportcard.gov/'\n",
    "    'Dataservice/GetAdhocData.aspx?'\n",
    "    'type=data&subject=mathematics&grade=8&'\n",
    "    'subscale=MRPCM&variable=GENDER&jurisdiction=CA&stattype=MN:MN&Year=2013,2015,2017,2019'\n",
    ")\n",
    "naep_query_math\n",
    "\n",
    "# Use requests to call API\n",
    "naep_query_math_resp = requests.get(naep_query_math)\n",
    "naep_query_math_resp\n",
    "\n",
    "# Get json contents of the response\n",
    "naep_query_math_json = naep_query_math_resp.json()\n",
    "naep_query_math_json"
   ]
  },
  {
   "cell_type": "code",
   "execution_count": 4,
   "metadata": {},
   "outputs": [
    {
     "data": {
      "text/html": [
       "<div>\n",
       "<style scoped>\n",
       "    .dataframe tbody tr th:only-of-type {\n",
       "        vertical-align: middle;\n",
       "    }\n",
       "\n",
       "    .dataframe tbody tr th {\n",
       "        vertical-align: top;\n",
       "    }\n",
       "\n",
       "    .dataframe thead th {\n",
       "        text-align: right;\n",
       "    }\n",
       "</style>\n",
       "<table border=\"1\" class=\"dataframe\">\n",
       "  <thead>\n",
       "    <tr style=\"text-align: right;\">\n",
       "      <th></th>\n",
       "      <th>year</th>\n",
       "      <th>sample</th>\n",
       "      <th>yearSampleLabel</th>\n",
       "      <th>Cohort</th>\n",
       "      <th>CohortLabel</th>\n",
       "      <th>stattype</th>\n",
       "      <th>subject</th>\n",
       "      <th>grade</th>\n",
       "      <th>scale</th>\n",
       "      <th>jurisdiction</th>\n",
       "      <th>jurisLabel</th>\n",
       "      <th>variable</th>\n",
       "      <th>variableLabel</th>\n",
       "      <th>varValue</th>\n",
       "      <th>varValueLabel</th>\n",
       "      <th>value</th>\n",
       "      <th>isStatDisplayable</th>\n",
       "      <th>errorFlag</th>\n",
       "    </tr>\n",
       "  </thead>\n",
       "  <tbody>\n",
       "    <tr>\n",
       "      <th>0</th>\n",
       "      <td>2013</td>\n",
       "      <td>R3</td>\n",
       "      <td>2013</td>\n",
       "      <td>2</td>\n",
       "      <td>Grade 8</td>\n",
       "      <td>MN:MN</td>\n",
       "      <td>MAT</td>\n",
       "      <td>8</td>\n",
       "      <td>MRPCM</td>\n",
       "      <td>CA</td>\n",
       "      <td>California</td>\n",
       "      <td>GENDER</td>\n",
       "      <td>Gender</td>\n",
       "      <td>1</td>\n",
       "      <td>Male</td>\n",
       "      <td>277.167171</td>\n",
       "      <td>1</td>\n",
       "      <td>0</td>\n",
       "    </tr>\n",
       "    <tr>\n",
       "      <th>1</th>\n",
       "      <td>2013</td>\n",
       "      <td>R3</td>\n",
       "      <td>2013</td>\n",
       "      <td>2</td>\n",
       "      <td>Grade 8</td>\n",
       "      <td>MN:MN</td>\n",
       "      <td>MAT</td>\n",
       "      <td>8</td>\n",
       "      <td>MRPCM</td>\n",
       "      <td>CA</td>\n",
       "      <td>California</td>\n",
       "      <td>GENDER</td>\n",
       "      <td>Gender</td>\n",
       "      <td>2</td>\n",
       "      <td>Female</td>\n",
       "      <td>274.597824</td>\n",
       "      <td>1</td>\n",
       "      <td>0</td>\n",
       "    </tr>\n",
       "    <tr>\n",
       "      <th>2</th>\n",
       "      <td>2015</td>\n",
       "      <td>R3</td>\n",
       "      <td>2015</td>\n",
       "      <td>2</td>\n",
       "      <td>Grade 8</td>\n",
       "      <td>MN:MN</td>\n",
       "      <td>MAT</td>\n",
       "      <td>8</td>\n",
       "      <td>MRPCM</td>\n",
       "      <td>CA</td>\n",
       "      <td>California</td>\n",
       "      <td>GENDER</td>\n",
       "      <td>Gender</td>\n",
       "      <td>1</td>\n",
       "      <td>Male</td>\n",
       "      <td>275.020977</td>\n",
       "      <td>1</td>\n",
       "      <td>0</td>\n",
       "    </tr>\n",
       "    <tr>\n",
       "      <th>3</th>\n",
       "      <td>2015</td>\n",
       "      <td>R3</td>\n",
       "      <td>2015</td>\n",
       "      <td>2</td>\n",
       "      <td>Grade 8</td>\n",
       "      <td>MN:MN</td>\n",
       "      <td>MAT</td>\n",
       "      <td>8</td>\n",
       "      <td>MRPCM</td>\n",
       "      <td>CA</td>\n",
       "      <td>California</td>\n",
       "      <td>GENDER</td>\n",
       "      <td>Gender</td>\n",
       "      <td>2</td>\n",
       "      <td>Female</td>\n",
       "      <td>275.638637</td>\n",
       "      <td>1</td>\n",
       "      <td>0</td>\n",
       "    </tr>\n",
       "    <tr>\n",
       "      <th>4</th>\n",
       "      <td>2017</td>\n",
       "      <td>R3</td>\n",
       "      <td>2017</td>\n",
       "      <td>2</td>\n",
       "      <td>Grade 8</td>\n",
       "      <td>MN:MN</td>\n",
       "      <td>MAT</td>\n",
       "      <td>8</td>\n",
       "      <td>MRPCM</td>\n",
       "      <td>CA</td>\n",
       "      <td>California</td>\n",
       "      <td>GENDER</td>\n",
       "      <td>Gender</td>\n",
       "      <td>1</td>\n",
       "      <td>Male</td>\n",
       "      <td>276.608704</td>\n",
       "      <td>1</td>\n",
       "      <td>0</td>\n",
       "    </tr>\n",
       "    <tr>\n",
       "      <th>5</th>\n",
       "      <td>2017</td>\n",
       "      <td>R3</td>\n",
       "      <td>2017</td>\n",
       "      <td>2</td>\n",
       "      <td>Grade 8</td>\n",
       "      <td>MN:MN</td>\n",
       "      <td>MAT</td>\n",
       "      <td>8</td>\n",
       "      <td>MRPCM</td>\n",
       "      <td>CA</td>\n",
       "      <td>California</td>\n",
       "      <td>GENDER</td>\n",
       "      <td>Gender</td>\n",
       "      <td>2</td>\n",
       "      <td>Female</td>\n",
       "      <td>276.669430</td>\n",
       "      <td>1</td>\n",
       "      <td>0</td>\n",
       "    </tr>\n",
       "    <tr>\n",
       "      <th>6</th>\n",
       "      <td>2019</td>\n",
       "      <td>R3</td>\n",
       "      <td>2019</td>\n",
       "      <td>2</td>\n",
       "      <td>Grade 8</td>\n",
       "      <td>MN:MN</td>\n",
       "      <td>MAT</td>\n",
       "      <td>8</td>\n",
       "      <td>MRPCM</td>\n",
       "      <td>CA</td>\n",
       "      <td>California</td>\n",
       "      <td>GENDER</td>\n",
       "      <td>Gender</td>\n",
       "      <td>1</td>\n",
       "      <td>Male</td>\n",
       "      <td>274.511628</td>\n",
       "      <td>1</td>\n",
       "      <td>0</td>\n",
       "    </tr>\n",
       "    <tr>\n",
       "      <th>7</th>\n",
       "      <td>2019</td>\n",
       "      <td>R3</td>\n",
       "      <td>2019</td>\n",
       "      <td>2</td>\n",
       "      <td>Grade 8</td>\n",
       "      <td>MN:MN</td>\n",
       "      <td>MAT</td>\n",
       "      <td>8</td>\n",
       "      <td>MRPCM</td>\n",
       "      <td>CA</td>\n",
       "      <td>California</td>\n",
       "      <td>GENDER</td>\n",
       "      <td>Gender</td>\n",
       "      <td>2</td>\n",
       "      <td>Female</td>\n",
       "      <td>276.721824</td>\n",
       "      <td>1</td>\n",
       "      <td>0</td>\n",
       "    </tr>\n",
       "  </tbody>\n",
       "</table>\n",
       "</div>"
      ],
      "text/plain": [
       "   year sample yearSampleLabel  Cohort CohortLabel stattype subject  grade  scale jurisdiction  jurisLabel variable variableLabel varValue varValueLabel       value  isStatDisplayable  errorFlag\n",
       "0  2013     R3            2013       2     Grade 8    MN:MN     MAT      8  MRPCM           CA  California   GENDER        Gender        1          Male  277.167171                  1          0\n",
       "1  2013     R3            2013       2     Grade 8    MN:MN     MAT      8  MRPCM           CA  California   GENDER        Gender        2        Female  274.597824                  1          0\n",
       "2  2015     R3            2015       2     Grade 8    MN:MN     MAT      8  MRPCM           CA  California   GENDER        Gender        1          Male  275.020977                  1          0\n",
       "3  2015     R3            2015       2     Grade 8    MN:MN     MAT      8  MRPCM           CA  California   GENDER        Gender        2        Female  275.638637                  1          0\n",
       "4  2017     R3            2017       2     Grade 8    MN:MN     MAT      8  MRPCM           CA  California   GENDER        Gender        1          Male  276.608704                  1          0\n",
       "5  2017     R3            2017       2     Grade 8    MN:MN     MAT      8  MRPCM           CA  California   GENDER        Gender        2        Female  276.669430                  1          0\n",
       "6  2019     R3            2019       2     Grade 8    MN:MN     MAT      8  MRPCM           CA  California   GENDER        Gender        1          Male  274.511628                  1          0\n",
       "7  2019     R3            2019       2     Grade 8    MN:MN     MAT      8  MRPCM           CA  California   GENDER        Gender        2        Female  276.721824                  1          0"
      ]
     },
     "execution_count": 4,
     "metadata": {},
     "output_type": "execute_result"
    }
   ],
   "source": [
    "# Turn result into a dataframe\n",
    "naep_math_df = pd.DataFrame(naep_query_math_json['result'])\n",
    "naep_math_df"
   ]
  },
  {
   "cell_type": "markdown",
   "metadata": {},
   "source": [
    "## 1.3 Create a line plot to show variation in the scores across years (2 points)\n",
    "\n",
    "Using the results from 1.2, create a plot where the x axis has the year and the y axis is the math scores (`value` in dataframe), and there are separate lines/colors for male versus female students (`varValueLabel` in dataframe)\n",
    "\n",
    "Start the limits of the y axis minimum at 272 and add informative labels. Be sure your x-axis is ticked on odd years, because NAEP scores skip even years. "
   ]
  },
  {
   "cell_type": "code",
   "execution_count": 5,
   "metadata": {},
   "outputs": [],
   "source": [
    "male_math = naep_math_df[naep_math_df['varValueLabel']=='Male']\n",
    "female_math = naep_math_df[naep_math_df['varValueLabel']=='Female']"
   ]
  },
  {
   "cell_type": "code",
   "execution_count": 6,
   "metadata": {},
   "outputs": [
    {
     "data": {
      "text/plain": [
       "[<matplotlib.lines.Line2D at 0x13526e6d0>]"
      ]
     },
     "execution_count": 6,
     "metadata": {},
     "output_type": "execute_result"
    },
    {
     "data": {
      "text/plain": [
       "[<matplotlib.lines.Line2D at 0x135eccb50>]"
      ]
     },
     "execution_count": 6,
     "metadata": {},
     "output_type": "execute_result"
    },
    {
     "data": {
      "text/plain": [
       "Text(0.5, 1.0, 'Mean Math Scores of Male and Female Students from 2013-2019')"
      ]
     },
     "execution_count": 6,
     "metadata": {},
     "output_type": "execute_result"
    },
    {
     "data": {
      "text/plain": [
       "(272.0, 278.0)"
      ]
     },
     "execution_count": 6,
     "metadata": {},
     "output_type": "execute_result"
    },
    {
     "data": {
      "text/plain": [
       "Text(0.5, 0, 'Year')"
      ]
     },
     "execution_count": 6,
     "metadata": {},
     "output_type": "execute_result"
    },
    {
     "data": {
      "text/plain": [
       "Text(0, 0.5, 'Mean Math Score')"
      ]
     },
     "execution_count": 6,
     "metadata": {},
     "output_type": "execute_result"
    },
    {
     "data": {
      "text/plain": [
       "<matplotlib.legend.Legend at 0x135e8fc10>"
      ]
     },
     "execution_count": 6,
     "metadata": {},
     "output_type": "execute_result"
    },
    {
     "data": {
      "text/plain": [
       "([<matplotlib.axis.XTick at 0x135ea5610>,\n",
       "  <matplotlib.axis.XTick at 0x135e8f810>,\n",
       "  <matplotlib.axis.XTick at 0x135e58550>,\n",
       "  <matplotlib.axis.XTick at 0x13611c550>],\n",
       " [Text(2013, 0, '2013'),\n",
       "  Text(2015, 0, '2015'),\n",
       "  Text(2017, 0, '2017'),\n",
       "  Text(2019, 0, '2019')])"
      ]
     },
     "execution_count": 6,
     "metadata": {},
     "output_type": "execute_result"
    },
    {
     "data": {
      "image/png": "[encoded data removed]",
      "text/plain": [
       "<Figure size 640x480 with 1 Axes>"
      ]
     },
     "metadata": {},
     "output_type": "display_data"
    }
   ],
   "source": [
    "plt.plot(male_math.year, male_math.value, color=\"deepskyblue\", label=\"Male\", linestyle=\"--\")\n",
    "plt.plot(female_math.year, female_math.value, color=\"deeppink\", label=\"Female\", linestyle=\"-\")\n",
    "plt.title(\"Mean Math Scores of Male and Female Students from 2013-2019\")\n",
    "plt.ylim(272,278)\n",
    "plt.xlabel(\"Year\")\n",
    "plt.ylabel(\"Mean Math Score\")\n",
    "plt.legend()\n",
    "years = range(2013, 2020)\n",
    "odd_years = [year for year in years if year % 2 != 0] \n",
    "plt.xticks(odd_years)\n",
    "\n",
    "plt.show()"
   ]
  },
  {
   "cell_type": "code",
   "execution_count": 7,
   "metadata": {},
   "outputs": [],
   "source": [
    "# (ggplot(naep_math_df, aes(x = 'year',\n",
    "#                          y = 'value',\n",
    "#                          color = 'varValueLabel',\n",
    "#                          linetype = 'varValueLabel')) +\n",
    "#  geom_line() + \n",
    "#  xlab(\"Year\") +\n",
    "#  ylab(\"Score\") +\n",
    "#  labs(color = \"Sex\",\n",
    "#      linetype = \"Sex\") +\n",
    "#  scale_y_continuous(limits = (272, 277)) +\n",
    "#  scale_x_continuous(breaks=[2013, 2015, 2017, 2019]) +\n",
    "#  ggtitle(\"Mean Math Scores of Male and Female Students from 2013-2019\") +\n",
    "#  scale_color_manual(values={'Male': 'deepskyblue', 'Female': 'deeppink'}) +\n",
    "#  scale_linetype_manual(values={'Male': 'solid', 'Female': 'dashed'}) +\n",
    "#  theme_minimal()\n",
    "# )"
   ]
  },
  {
   "cell_type": "markdown",
   "metadata": {},
   "source": [
    "## 1.4 Reproduce the queries from 1.1 and 1.2 using a user-defined function (4 points)\n",
    "\n",
    "Create a function, `construct_naep_query` that takes in two arguments:\n",
    "\n",
    "- year: this should be a list with all years (so if one year, single element list; if multiple years, list with those years)\n",
    "- place: this should be a string with the name of the state or jurisdiction to pull \n",
    "    \n",
    "Have the function return the query and make sure it's identical to the queries you wrote for 1.1 and 1.2 (can use assert or other checker)"
   ]
  },
  {
   "cell_type": "code",
   "execution_count": 8,
   "metadata": {},
   "outputs": [],
   "source": [
    "# Define function\n",
    "def construct_naep_query(year, place):\n",
    "    if isinstance(year, list):\n",
    "        year_str = ','.join(year)\n",
    "        \n",
    "    else:\n",
    "        year_str = year\n",
    "\n",
    "    naep_query = (\n",
    "        'https://www.nationsreportcard.gov/' +\n",
    "        'Dataservice/GetAdhocData.aspx?' +\n",
    "        'type=data&subject=mathematics&grade=8&' +\n",
    "        'subscale=MRPCM&variable=GENDER&jurisdiction=' + place + '&stattype=MN:MN&' +\n",
    "        'Year=' + year_str\n",
    "    )\n",
    "\n",
    "    return naep_query"
   ]
  },
  {
   "cell_type": "code",
   "execution_count": 9,
   "metadata": {},
   "outputs": [
    {
     "name": "stdout",
     "output_type": "stream",
     "text": [
      "Single year Query:\n",
      "https://www.nationsreportcard.gov/Dataservice/GetAdhocData.aspx?type=data&subject=mathematics&grade=8&subscale=MRPCM&variable=GENDER&jurisdiction=CA&stattype=MN:MN&Year=2015\n",
      "List of years Query: \n",
      "https://www.nationsreportcard.gov/Dataservice/GetAdhocData.aspx?type=data&subject=mathematics&grade=8&subscale=MRPCM&variable=GENDER&jurisdiction=CA&stattype=MN:MN&Year=2013,2015,2017,2019\n"
     ]
    }
   ],
   "source": [
    "# Execute function\n",
    "print(\"Single year Query:\")\n",
    "print(construct_naep_query('2015', 'CA'))\n",
    "print(\"List of years Query: \")\n",
    "print(construct_naep_query(['2013', '2015', '2017', '2019'], 'CA'))"
   ]
  },
  {
   "cell_type": "code",
   "execution_count": 10,
   "metadata": {},
   "outputs": [
    {
     "name": "stdout",
     "output_type": "stream",
     "text": [
      "The queries match\n",
      "The queries match\n"
     ]
    }
   ],
   "source": [
    "assert construct_naep_query('2015', 'CA') == (\n",
    "    'https://www.nationsreportcard.gov/'\n",
    "    'Dataservice/GetAdhocData.aspx?'\n",
    "    'type=data&subject=mathematics&grade=8&'\n",
    "    'subscale=MRPCM&variable=GENDER&jurisdiction=CA&stattype=MN:MN&'\n",
    "    'Year=2015'), \"The queries do not match\"\n",
    "print(\"The queries match\")\n",
    "\n",
    "assert construct_naep_query(['2013', '2015', '2017', '2019'], 'CA') == (\n",
    "    'https://www.nationsreportcard.gov/'\n",
    "    'Dataservice/GetAdhocData.aspx?'\n",
    "    'type=data&subject=mathematics&grade=8&'\n",
    "    'subscale=MRPCM&variable=GENDER&jurisdiction=CA&stattype=MN:MN&'\n",
    "    'Year=2013,2015,2017,2019'), \"The queries do not match\"\n",
    "print(\"The queries match\")"
   ]
  },
  {
   "cell_type": "markdown",
   "metadata": {},
   "source": [
    "## 1.5 Write and execute user-defined function that takes in a query and returns a pandas dataframe with the content of the response (4 points)\n",
    "\n",
    "- Write a user-defined function (`process_naep_query`) that takes in the CA-specific NAEP query as a string, calls the API, and transforms the response into a pandas dataframe. Have the function return that pandas dataframe\n",
    "\n",
    "- Make sure the function is flexible enough to handle queries that return an error; for queries that return an error, have the function return the string \"Data not found; check your query\" (see [API part 1 solutions code](https://github.com/herbertfreeze/QSS_public/blob/main/activities/solutions/06_apis_solutions.ipynb) for an example of `try:`/`except:`)\n",
    "\n",
    "- Execute the function on the query that pulls 2013-2019 data (either from handwriting the query or the result in 1.4)\n",
    "\n",
    "- Print the resulting dataframe\n",
    "\n",
    "- Then execute the function on a query that pulls a state that doesn't exist (call this state ZZ)"
   ]
  },
  {
   "cell_type": "code",
   "execution_count": 11,
   "metadata": {},
   "outputs": [
    {
     "ename": "SyntaxError",
     "evalue": "expected ':' (167592606.py, line 2)",
     "output_type": "error",
     "traceback": [
      "\u001b[0;36m  Cell \u001b[0;32mIn[11], line 2\u001b[0;36m\u001b[0m\n\u001b[0;31m    def process_naep_query()\u001b[0m\n\u001b[0m                            ^\u001b[0m\n\u001b[0;31mSyntaxError\u001b[0m\u001b[0;31m:\u001b[0m expected ':'\n"
     ]
    }
   ],
   "source": [
    "# Define function \n",
    "def process_naep_query()"
   ]
  },
  {
   "cell_type": "code",
   "execution_count": 12,
   "metadata": {},
   "outputs": [
    {
     "name": "stdout",
     "output_type": "stream",
     "text": [
      "Failed to get result from API for grade 2013 due to error:\n",
      "Invalid control character at: line 1 column 110 (char 109)\n",
      "Failed to get result from API for grade 2015 due to error:\n",
      "Invalid control character at: line 1 column 110 (char 109)\n"
     ]
    },
    {
     "ename": "ValueError",
     "evalue": "No objects to concatenate",
     "output_type": "error",
     "traceback": [
      "\u001b[0;31m---------------------------------------------------------------------------\u001b[0m",
      "\u001b[0;31mValueError\u001b[0m                                Traceback (most recent call last)",
      "Cell \u001b[0;32mIn[12], line 24\u001b[0m\n\u001b[1;32m     19\u001b[0m     combined_result_df \u001b[38;5;241m=\u001b[39m pd\u001b[38;5;241m.\u001b[39mconcat(dflist)\n\u001b[1;32m     21\u001b[0m     \u001b[38;5;28;01mreturn\u001b[39;00m(combined_result_df)\n\u001b[0;32m---> 24\u001b[0m naep_api_calls(years \u001b[38;5;241m=\u001b[39m [\u001b[38;5;241m2013\u001b[39m, \u001b[38;5;241m2015\u001b[39m])\n",
      "Cell \u001b[0;32mIn[12], line 19\u001b[0m, in \u001b[0;36mnaep_api_calls\u001b[0;34m(years, baseurl, query_part1, query_part3)\u001b[0m\n\u001b[1;32m     16\u001b[0m         \u001b[38;5;28mprint\u001b[39m(\u001b[38;5;124m\"\u001b[39m\u001b[38;5;124mFailed to get result from API for grade \u001b[39m\u001b[38;5;132;01m{}\u001b[39;00m\u001b[38;5;124m due to error:\u001b[39m\u001b[38;5;124m\"\u001b[39m\u001b[38;5;241m.\u001b[39mformat(\u001b[38;5;28mstr\u001b[39m(year)))\n\u001b[1;32m     17\u001b[0m         \u001b[38;5;28mprint\u001b[39m(e)\n\u001b[0;32m---> 19\u001b[0m combined_result_df \u001b[38;5;241m=\u001b[39m pd\u001b[38;5;241m.\u001b[39mconcat(dflist)\n\u001b[1;32m     21\u001b[0m \u001b[38;5;28;01mreturn\u001b[39;00m(combined_result_df)\n",
      "File \u001b[0;32m/opt/anaconda3/lib/python3.11/site-packages/pandas/core/reshape/concat.py:380\u001b[0m, in \u001b[0;36mconcat\u001b[0;34m(objs, axis, join, ignore_index, keys, levels, names, verify_integrity, sort, copy)\u001b[0m\n\u001b[1;32m    377\u001b[0m \u001b[38;5;28;01melif\u001b[39;00m copy \u001b[38;5;129;01mand\u001b[39;00m using_copy_on_write():\n\u001b[1;32m    378\u001b[0m     copy \u001b[38;5;241m=\u001b[39m \u001b[38;5;28;01mFalse\u001b[39;00m\n\u001b[0;32m--> 380\u001b[0m op \u001b[38;5;241m=\u001b[39m _Concatenator(\n\u001b[1;32m    381\u001b[0m     objs,\n\u001b[1;32m    382\u001b[0m     axis\u001b[38;5;241m=\u001b[39maxis,\n\u001b[1;32m    383\u001b[0m     ignore_index\u001b[38;5;241m=\u001b[39mignore_index,\n\u001b[1;32m    384\u001b[0m     join\u001b[38;5;241m=\u001b[39mjoin,\n\u001b[1;32m    385\u001b[0m     keys\u001b[38;5;241m=\u001b[39mkeys,\n\u001b[1;32m    386\u001b[0m     levels\u001b[38;5;241m=\u001b[39mlevels,\n\u001b[1;32m    387\u001b[0m     names\u001b[38;5;241m=\u001b[39mnames,\n\u001b[1;32m    388\u001b[0m     verify_integrity\u001b[38;5;241m=\u001b[39mverify_integrity,\n\u001b[1;32m    389\u001b[0m     copy\u001b[38;5;241m=\u001b[39mcopy,\n\u001b[1;32m    390\u001b[0m     sort\u001b[38;5;241m=\u001b[39msort,\n\u001b[1;32m    391\u001b[0m )\n\u001b[1;32m    393\u001b[0m \u001b[38;5;28;01mreturn\u001b[39;00m op\u001b[38;5;241m.\u001b[39mget_result()\n",
      "File \u001b[0;32m/opt/anaconda3/lib/python3.11/site-packages/pandas/core/reshape/concat.py:443\u001b[0m, in \u001b[0;36m_Concatenator.__init__\u001b[0;34m(self, objs, axis, join, keys, levels, names, ignore_index, verify_integrity, copy, sort)\u001b[0m\n\u001b[1;32m    440\u001b[0m \u001b[38;5;28mself\u001b[39m\u001b[38;5;241m.\u001b[39mverify_integrity \u001b[38;5;241m=\u001b[39m verify_integrity\n\u001b[1;32m    441\u001b[0m \u001b[38;5;28mself\u001b[39m\u001b[38;5;241m.\u001b[39mcopy \u001b[38;5;241m=\u001b[39m copy\n\u001b[0;32m--> 443\u001b[0m objs, keys \u001b[38;5;241m=\u001b[39m \u001b[38;5;28mself\u001b[39m\u001b[38;5;241m.\u001b[39m_clean_keys_and_objs(objs, keys)\n\u001b[1;32m    445\u001b[0m \u001b[38;5;66;03m# figure out what our result ndim is going to be\u001b[39;00m\n\u001b[1;32m    446\u001b[0m ndims \u001b[38;5;241m=\u001b[39m \u001b[38;5;28mself\u001b[39m\u001b[38;5;241m.\u001b[39m_get_ndims(objs)\n",
      "File \u001b[0;32m/opt/anaconda3/lib/python3.11/site-packages/pandas/core/reshape/concat.py:505\u001b[0m, in \u001b[0;36m_Concatenator._clean_keys_and_objs\u001b[0;34m(self, objs, keys)\u001b[0m\n\u001b[1;32m    502\u001b[0m     objs_list \u001b[38;5;241m=\u001b[39m \u001b[38;5;28mlist\u001b[39m(objs)\n\u001b[1;32m    504\u001b[0m \u001b[38;5;28;01mif\u001b[39;00m \u001b[38;5;28mlen\u001b[39m(objs_list) \u001b[38;5;241m==\u001b[39m \u001b[38;5;241m0\u001b[39m:\n\u001b[0;32m--> 505\u001b[0m     \u001b[38;5;28;01mraise\u001b[39;00m \u001b[38;5;167;01mValueError\u001b[39;00m(\u001b[38;5;124m\"\u001b[39m\u001b[38;5;124mNo objects to concatenate\u001b[39m\u001b[38;5;124m\"\u001b[39m)\n\u001b[1;32m    507\u001b[0m \u001b[38;5;28;01mif\u001b[39;00m keys \u001b[38;5;129;01mis\u001b[39;00m \u001b[38;5;28;01mNone\u001b[39;00m:\n\u001b[1;32m    508\u001b[0m     objs_list \u001b[38;5;241m=\u001b[39m \u001b[38;5;28mlist\u001b[39m(com\u001b[38;5;241m.\u001b[39mnot_none(\u001b[38;5;241m*\u001b[39mobjs_list))\n",
      "\u001b[0;31mValueError\u001b[0m: No objects to concatenate"
     ]
    }
   ],
   "source": [
    "def naep_api_calls(years: list,\n",
    "                   baseurl = 'https://www.nationsreportcard.gov/Dataservice/GetAdhocData.aspx?',\n",
    "                   query_part1 = 'type=data&subject=writing&grade=8&',\n",
    "                   query_part3 = '&subscale=WRIRP&variable=GENDER&jurisdiction=CA&stattype=MN:MN'):\n",
    "    \n",
    "    dflist = []\n",
    "    \n",
    "    for year in years:\n",
    "        naep_query = baseurl + query_part1  + query_part3 + ('&year=' + str(year))\n",
    "        naep_resp = requests.get(naep_query)\n",
    "\n",
    "        try:\n",
    "            naep_resp_df = pd.DataFrame(naep_resp.json()['result'])\n",
    "            dflist.append(naep_resp_df)\n",
    "        except Exception as e:\n",
    "            print(\"Failed to get result from API for grade {} due to error:\".format(str(year)))\n",
    "            print(e)\n",
    "        \n",
    "    combined_result_df = pd.concat(dflist)\n",
    "    \n",
    "    return(combined_result_df)\n",
    "\n",
    "\n",
    "naep_api_calls(years = [2013, 2015])"
   ]
  },
  {
   "cell_type": "code",
   "execution_count": 13,
   "metadata": {},
   "outputs": [
    {
     "name": "stdout",
     "output_type": "stream",
     "text": [
      "Failed to get result from API for year 2019 due to error:\n",
      "Unrecognized escape sequence when decoding 'string'\n",
      "No data retrieved from API for any year.\n"
     ]
    }
   ],
   "source": [
    "def naep_api_calls(years, baseurl = 'https://www.nationsreportcard.gov/Dataservice/GetAdhocData.aspx?',\n",
    "                   query_part1 = 'type=data&subject=writing&grade=8&',\n",
    "                   query_part3 = '&subscale=WRIRP&variable=GENDER&jurisdiction=CA&stattype=MN:MN'):\n",
    "    dflist = []\n",
    "\n",
    "    for year in years:\n",
    "        query = baseurl + query_part1 + query_part3 + ('&Year=' + str(year))\n",
    "        try:\n",
    "            df = pd.read_json(query)\n",
    "            dflist.append(df)\n",
    "        except Exception as e:\n",
    "            print(\"Failed to get result from API for year {} due to error:\".format(str(year)))\n",
    "            print(e)\n",
    "    \n",
    "    if not dflist:  # Check if dflist is empty\n",
    "        print(\"No data retrieved from API for any year.\")\n",
    "        return None  # Or you can return an empty DataFrame: pd.DataFrame()\n",
    "    \n",
    "    combined_result_df = pd.concat(dflist)\n",
    "    return combined_result_df\n",
    "\n",
    "\n",
    "naep_api_calls(years=['2019'])"
   ]
  },
  {
   "cell_type": "markdown",
   "metadata": {},
   "source": [
    "# 2. Explore data using SQL queries (18 points)\n",
    "\n",
    "In the previous example, you worked with the data in a flat file and manipulated it using pandas. Here, we're going to practice running queries to do some calculations using SQL --- in the case of our data, this is a bit overkill since the data are small but it is practice for larger datasets."
   ]
  },
  {
   "cell_type": "markdown",
   "metadata": {},
   "source": [
    "## 2.1 Load database credentials and establish a connection (1 point)\n",
    "\n",
    "Load a credentials file that contains the credentials you'll need for this and the next problem:\n",
    "\n",
    "- The credentials for our class database\n",
    "\n",
    "\n",
    "Note: to establish the SQL connection, you need to be on `eduroam` (near campus) or the Dartmouth's GlobalProtect `VPN`  ([installation instructions here](https://services.dartmouth.edu/TDClient/1806/Portal/KB/ArticleDet?ID=72395))"
   ]
  },
  {
   "cell_type": "code",
   "execution_count": 3,
   "metadata": {},
   "outputs": [
    {
     "data": {
      "text/plain": [
       "<mysql.connector.connection.MySQLConnection at 0x143cc14d0>"
      ]
     },
     "execution_count": 3,
     "metadata": {},
     "output_type": "execute_result"
    }
   ],
   "source": [
    "import warnings\n",
    "warnings.filterwarnings(\"ignore\", category=UserWarning)\n",
    "\n",
    "creds = load_creds(\"new_creds.yaml\")\n",
    "\n",
    "census = mysql.connector.connect(user=creds['database']['user'], \n",
    "                            password=creds['database']['password'],\n",
    "                            port=creds['database']['port'],\n",
    "                            database= creds['database']['database'],\n",
    "                            host = creds['database']['host'])\n",
    "\n",
    "census"
   ]
  },
  {
   "cell_type": "markdown",
   "metadata": {},
   "source": [
    "## 2.2 Run a query to select all columns and the first 5 rows of the math_gencompare database to explore structure (2 points)\n",
    "\n",
    "Read the results in as a pandas dataframe and print the result"
   ]
  },
  {
   "cell_type": "code",
   "execution_count": 4,
   "metadata": {},
   "outputs": [
    {
     "data": {
      "text/html": [
       "<div>\n",
       "<style scoped>\n",
       "    .dataframe tbody tr th:only-of-type {\n",
       "        vertical-align: middle;\n",
       "    }\n",
       "\n",
       "    .dataframe tbody tr th {\n",
       "        vertical-align: top;\n",
       "    }\n",
       "\n",
       "    .dataframe thead th {\n",
       "        text-align: right;\n",
       "    }\n",
       "</style>\n",
       "<table border=\"1\" class=\"dataframe\">\n",
       "  <thead>\n",
       "    <tr style=\"text-align: right;\">\n",
       "      <th></th>\n",
       "      <th>abbrev</th>\n",
       "      <th>FIPS</th>\n",
       "      <th>state</th>\n",
       "      <th>year</th>\n",
       "      <th>female</th>\n",
       "      <th>male</th>\n",
       "    </tr>\n",
       "  </thead>\n",
       "  <tbody>\n",
       "    <tr>\n",
       "      <th>0</th>\n",
       "      <td>AK</td>\n",
       "      <td>2</td>\n",
       "      <td>Alaska</td>\n",
       "      <td>2013</td>\n",
       "      <td>281.388243030547</td>\n",
       "      <td>281.723376175464</td>\n",
       "    </tr>\n",
       "    <tr>\n",
       "      <th>1</th>\n",
       "      <td>AL</td>\n",
       "      <td>1</td>\n",
       "      <td>Alabama</td>\n",
       "      <td>2013</td>\n",
       "      <td>268.920111754346</td>\n",
       "      <td>269.457455785562</td>\n",
       "    </tr>\n",
       "    <tr>\n",
       "      <th>2</th>\n",
       "      <td>AR</td>\n",
       "      <td>5</td>\n",
       "      <td>Arkansas</td>\n",
       "      <td>2013</td>\n",
       "      <td>278.381788404903</td>\n",
       "      <td>277.457662328569</td>\n",
       "    </tr>\n",
       "    <tr>\n",
       "      <th>3</th>\n",
       "      <td>AZ</td>\n",
       "      <td>4</td>\n",
       "      <td>Arizona</td>\n",
       "      <td>2013</td>\n",
       "      <td>279.249581150207</td>\n",
       "      <td>280.174388600923</td>\n",
       "    </tr>\n",
       "    <tr>\n",
       "      <th>4</th>\n",
       "      <td>CA</td>\n",
       "      <td>6</td>\n",
       "      <td>California</td>\n",
       "      <td>2013</td>\n",
       "      <td>274.597823860242</td>\n",
       "      <td>277.167170641967</td>\n",
       "    </tr>\n",
       "  </tbody>\n",
       "</table>\n",
       "</div>"
      ],
      "text/plain": [
       "  abbrev  FIPS       state  year            female              male\n",
       "0     AK     2      Alaska  2013  281.388243030547  281.723376175464\n",
       "1     AL     1     Alabama  2013  268.920111754346  269.457455785562\n",
       "2     AR     5    Arkansas  2013  278.381788404903  277.457662328569\n",
       "3     AZ     4     Arizona  2013  279.249581150207  280.174388600923\n",
       "4     CA     6  California  2013  274.597823860242  277.167170641967"
      ]
     },
     "execution_count": 4,
     "metadata": {},
     "output_type": "execute_result"
    }
   ],
   "source": [
    "#select the first 5 rows + all columns\n",
    "query = \"\"\"\n",
    "SELECT \n",
    "    *\n",
    "FROM math_gencompare\n",
    "LIMIT 5\n",
    "\"\"\"\n",
    "\n",
    "#read results\n",
    "first_five = pd.read_sql_query(query, census)\n",
    "\n",
    "#print results\n",
    "first_five"
   ]
  },
  {
   "cell_type": "markdown",
   "metadata": {},
   "source": [
    "## 2.3 Find the (1) number of rows in the database, (2) number of distinct states,  (3) number of distinct years (3 points)\n",
    "\n",
    "Interpret the results - how do you think the data is structured in terms of states and years (eg long format where each state repeated; wide format)?\n",
    "\n",
    "**Hint**: rather than using count `(*)` for the latter two, think about the `distinct` command in combination with `count`: https://www.w3resource.com/mysql/aggregate-functions-and-grouping/aggregate-functions-and-grouping-count-with-distinct.php"
   ]
  },
  {
   "cell_type": "code",
   "execution_count": 5,
   "metadata": {},
   "outputs": [
    {
     "data": {
      "text/html": [
       "<div>\n",
       "<style scoped>\n",
       "    .dataframe tbody tr th:only-of-type {\n",
       "        vertical-align: middle;\n",
       "    }\n",
       "\n",
       "    .dataframe tbody tr th {\n",
       "        vertical-align: top;\n",
       "    }\n",
       "\n",
       "    .dataframe thead th {\n",
       "        text-align: right;\n",
       "    }\n",
       "</style>\n",
       "<table border=\"1\" class=\"dataframe\">\n",
       "  <thead>\n",
       "    <tr style=\"text-align: right;\">\n",
       "      <th></th>\n",
       "      <th>COUNT(*)</th>\n",
       "    </tr>\n",
       "  </thead>\n",
       "  <tbody>\n",
       "    <tr>\n",
       "      <th>0</th>\n",
       "      <td>200</td>\n",
       "    </tr>\n",
       "  </tbody>\n",
       "</table>\n",
       "</div>"
      ],
      "text/plain": [
       "   COUNT(*)\n",
       "0       200"
      ]
     },
     "execution_count": 5,
     "metadata": {},
     "output_type": "execute_result"
    },
    {
     "data": {
      "text/html": [
       "<div>\n",
       "<style scoped>\n",
       "    .dataframe tbody tr th:only-of-type {\n",
       "        vertical-align: middle;\n",
       "    }\n",
       "\n",
       "    .dataframe tbody tr th {\n",
       "        vertical-align: top;\n",
       "    }\n",
       "\n",
       "    .dataframe thead th {\n",
       "        text-align: right;\n",
       "    }\n",
       "</style>\n",
       "<table border=\"1\" class=\"dataframe\">\n",
       "  <thead>\n",
       "    <tr style=\"text-align: right;\">\n",
       "      <th></th>\n",
       "      <th>COUNT(DISTINCT state)</th>\n",
       "    </tr>\n",
       "  </thead>\n",
       "  <tbody>\n",
       "    <tr>\n",
       "      <th>0</th>\n",
       "      <td>50</td>\n",
       "    </tr>\n",
       "  </tbody>\n",
       "</table>\n",
       "</div>"
      ],
      "text/plain": [
       "   COUNT(DISTINCT state)\n",
       "0                     50"
      ]
     },
     "execution_count": 5,
     "metadata": {},
     "output_type": "execute_result"
    },
    {
     "data": {
      "text/html": [
       "<div>\n",
       "<style scoped>\n",
       "    .dataframe tbody tr th:only-of-type {\n",
       "        vertical-align: middle;\n",
       "    }\n",
       "\n",
       "    .dataframe tbody tr th {\n",
       "        vertical-align: top;\n",
       "    }\n",
       "\n",
       "    .dataframe thead th {\n",
       "        text-align: right;\n",
       "    }\n",
       "</style>\n",
       "<table border=\"1\" class=\"dataframe\">\n",
       "  <thead>\n",
       "    <tr style=\"text-align: right;\">\n",
       "      <th></th>\n",
       "      <th>COUNT(DISTINCT year)</th>\n",
       "    </tr>\n",
       "  </thead>\n",
       "  <tbody>\n",
       "    <tr>\n",
       "      <th>0</th>\n",
       "      <td>4</td>\n",
       "    </tr>\n",
       "  </tbody>\n",
       "</table>\n",
       "</div>"
      ],
      "text/plain": [
       "   COUNT(DISTINCT year)\n",
       "0                     4"
      ]
     },
     "execution_count": 5,
     "metadata": {},
     "output_type": "execute_result"
    }
   ],
   "source": [
    "# your code here\n",
    "\n",
    "part1 = \"\"\"\n",
    "SELECT COUNT(*) \n",
    "FROM math_gencompare\n",
    "\"\"\"\n",
    "\n",
    "part2 = \"\"\"\n",
    "SELECT COUNT(DISTINCT state) \n",
    "FROM math_gencompare\n",
    "\"\"\"\n",
    "\n",
    "part3 = \"\"\"\n",
    "SELECT COUNT(DISTINCT year) \n",
    "FROM math_gencompare\n",
    "\"\"\"\n",
    "\n",
    "\n",
    "#read results into df\n",
    "df1 = pd.read_sql_query(part1, census)\n",
    "df2 = pd.read_sql_query(part2, census)\n",
    "df3 = pd.read_sql_query(part3, census)\n",
    "\n",
    "#print\n",
    "\n",
    "df1\n",
    "df2\n",
    "df3"
   ]
  },
  {
   "cell_type": "markdown",
   "metadata": {},
   "source": [
    "## WRITE INTERPRETATION HERE - how do you think the data is structured in terms of states and years (eg long format where each state repeated; wide format)?"
   ]
  },
  {
   "cell_type": "markdown",
   "metadata": {},
   "source": [
    "## 2.4 Construct a new variable, `is_male_higher` that takes the value of 1 if the math scores of males exceed that of females in that state and year (each row) (2 points)\n",
    "\n",
    "Read in the results, print the head, and find the mean across all rows (the percentage of state-years where male students have higher scores)"
   ]
  },
  {
   "cell_type": "code",
   "execution_count": 6,
   "metadata": {},
   "outputs": [
    {
     "data": {
      "text/html": [
       "<div>\n",
       "<style scoped>\n",
       "    .dataframe tbody tr th:only-of-type {\n",
       "        vertical-align: middle;\n",
       "    }\n",
       "\n",
       "    .dataframe tbody tr th {\n",
       "        vertical-align: top;\n",
       "    }\n",
       "\n",
       "    .dataframe thead th {\n",
       "        text-align: right;\n",
       "    }\n",
       "</style>\n",
       "<table border=\"1\" class=\"dataframe\">\n",
       "  <thead>\n",
       "    <tr style=\"text-align: right;\">\n",
       "      <th></th>\n",
       "      <th>state</th>\n",
       "      <th>year</th>\n",
       "      <th>is_male_higher</th>\n",
       "    </tr>\n",
       "  </thead>\n",
       "  <tbody>\n",
       "    <tr>\n",
       "      <th>0</th>\n",
       "      <td>Alaska</td>\n",
       "      <td>2013</td>\n",
       "      <td>1</td>\n",
       "    </tr>\n",
       "    <tr>\n",
       "      <th>1</th>\n",
       "      <td>Alabama</td>\n",
       "      <td>2013</td>\n",
       "      <td>1</td>\n",
       "    </tr>\n",
       "    <tr>\n",
       "      <th>2</th>\n",
       "      <td>Arkansas</td>\n",
       "      <td>2013</td>\n",
       "      <td>0</td>\n",
       "    </tr>\n",
       "    <tr>\n",
       "      <th>3</th>\n",
       "      <td>Arizona</td>\n",
       "      <td>2013</td>\n",
       "      <td>1</td>\n",
       "    </tr>\n",
       "    <tr>\n",
       "      <th>4</th>\n",
       "      <td>California</td>\n",
       "      <td>2013</td>\n",
       "      <td>1</td>\n",
       "    </tr>\n",
       "  </tbody>\n",
       "</table>\n",
       "</div>"
      ],
      "text/plain": [
       "        state  year  is_male_higher\n",
       "0      Alaska  2013               1\n",
       "1     Alabama  2013               1\n",
       "2    Arkansas  2013               0\n",
       "3     Arizona  2013               1\n",
       "4  California  2013               1"
      ]
     },
     "execution_count": 6,
     "metadata": {},
     "output_type": "execute_result"
    },
    {
     "data": {
      "text/plain": [
       "0.515"
      ]
     },
     "execution_count": 6,
     "metadata": {},
     "output_type": "execute_result"
    }
   ],
   "source": [
    "#when male > female assign 1\n",
    "part4 = \"\"\"\n",
    "SELECT state, year,\n",
    "CASE WHEN male > female\n",
    "THEN 1\n",
    "ELSE 0\n",
    "END AS is_male_higher\n",
    "FROM math_gencompare\n",
    "\"\"\"\n",
    "\n",
    "#read in the results\n",
    "df4 = pd.read_sql_query(part4, census)\n",
    "\n",
    "#print the head\n",
    "df4.head()\n",
    "\n",
    "#find the mean across all rows\n",
    "row_mean = df4['is_male_higher'].mean()\n",
    "row_mean"
   ]
  },
  {
   "cell_type": "markdown",
   "metadata": {},
   "source": [
    "## 2.5 group by year and find the percentage of states where male scores are higher than females (4 points)\n",
    "\n",
    "**A.** Write a query that (1) groups by year and (2) finds the percentage of states that have higher scores for males than females in this year \n",
    "\n",
    "**B.** Print the resulting dataframe and interpret the results \n",
    "\n",
    "**Hint:** To compare male and female scores, consider logical operators (e.g., `<`, `>`, `=`) and simple aggregation (e.g., `avg()` to get mean) or using a subquery to construct the indicator."
   ]
  },
  {
   "cell_type": "code",
   "execution_count": 7,
   "metadata": {},
   "outputs": [
    {
     "data": {
      "text/html": [
       "<div>\n",
       "<style scoped>\n",
       "    .dataframe tbody tr th:only-of-type {\n",
       "        vertical-align: middle;\n",
       "    }\n",
       "\n",
       "    .dataframe tbody tr th {\n",
       "        vertical-align: top;\n",
       "    }\n",
       "\n",
       "    .dataframe thead th {\n",
       "        text-align: right;\n",
       "    }\n",
       "</style>\n",
       "<table border=\"1\" class=\"dataframe\">\n",
       "  <thead>\n",
       "    <tr style=\"text-align: right;\">\n",
       "      <th></th>\n",
       "      <th>year</th>\n",
       "      <th>percent_male_higher</th>\n",
       "    </tr>\n",
       "  </thead>\n",
       "  <tbody>\n",
       "    <tr>\n",
       "      <th>0</th>\n",
       "      <td>2013</td>\n",
       "      <td>62.0</td>\n",
       "    </tr>\n",
       "    <tr>\n",
       "      <th>1</th>\n",
       "      <td>2015</td>\n",
       "      <td>56.0</td>\n",
       "    </tr>\n",
       "    <tr>\n",
       "      <th>2</th>\n",
       "      <td>2017</td>\n",
       "      <td>58.0</td>\n",
       "    </tr>\n",
       "    <tr>\n",
       "      <th>3</th>\n",
       "      <td>2019</td>\n",
       "      <td>30.0</td>\n",
       "    </tr>\n",
       "  </tbody>\n",
       "</table>\n",
       "</div>"
      ],
      "text/plain": [
       "   year  percent_male_higher\n",
       "0  2013                 62.0\n",
       "1  2015                 56.0\n",
       "2  2017                 58.0\n",
       "3  2019                 30.0"
      ]
     },
     "execution_count": 7,
     "metadata": {},
     "output_type": "execute_result"
    }
   ],
   "source": [
    "#A\n",
    "#use avg to find percentage then groupby year\n",
    "part5 = \"\"\"\n",
    "SELECT year,\n",
    "AVG(CASE WHEN male > female\n",
    "THEN 100\n",
    "ELSE 0 \n",
    "END) AS percent_male_higher\n",
    "FROM math_gencompare\n",
    "GROUP BY year;\n",
    "\"\"\"\n",
    "df5 = pd.read_sql_query(part5, census)\n",
    "\n",
    "#B\n",
    "#print the df\n",
    "df5\n"
   ]
  },
  {
   "cell_type": "markdown",
   "metadata": {},
   "source": [
    "## B INTERPRET"
   ]
  },
  {
   "cell_type": "markdown",
   "metadata": {},
   "source": [
    "## 2.6 group by state and find the percentage of years where male scores higher than females\n",
    "\n",
    "**A.** Write a query that (1) groups by state and (2) finds the percentage of years that have higher scores for males than females in that state\n",
    "\n",
    "**B.** Plot the results ordering the states from males higher all 4 years to males higher none of the years"
   ]
  },
  {
   "cell_type": "code",
   "execution_count": 8,
   "metadata": {},
   "outputs": [],
   "source": [
    "#A\n",
    "part6 = \"\"\"\n",
    "SELECT state,\n",
    "AVG(CASE WHEN male > female\n",
    "THEN 100\n",
    "ELSE 0 \n",
    "END) AS percent_higher_male\n",
    "FROM math_gencompare\n",
    "GROUP BY state;\n",
    "\"\"\"\n",
    "\n",
    "#read it as a df\n",
    "df6 = pd.read_sql_query(part6, census)\n",
    "#df6"
   ]
  },
  {
   "cell_type": "code",
   "execution_count": 9,
   "metadata": {},
   "outputs": [
    {
     "data": {
      "text/plain": [
       "<Figure size 1000x1000 with 0 Axes>"
      ]
     },
     "execution_count": 9,
     "metadata": {},
     "output_type": "execute_result"
    },
    {
     "data": {
      "text/plain": [
       "<BarContainer object of 50 artists>"
      ]
     },
     "execution_count": 9,
     "metadata": {},
     "output_type": "execute_result"
    },
    {
     "data": {
      "text/plain": [
       "Text(0.5, 1.0, 'Percentage of Years with Higher Male Scores by State')"
      ]
     },
     "execution_count": 9,
     "metadata": {},
     "output_type": "execute_result"
    },
    {
     "data": {
      "text/plain": [
       "Text(0.5, 0, 'Percent Male Higher')"
      ]
     },
     "execution_count": 9,
     "metadata": {},
     "output_type": "execute_result"
    },
    {
     "data": {
      "text/plain": [
       "Text(0, 0.5, 'State')"
      ]
     },
     "execution_count": 9,
     "metadata": {},
     "output_type": "execute_result"
    },
    {
     "data": {
      "image/png": "[encoded data removed]",
      "text/plain": [
       "<Figure size 1000x1000 with 1 Axes>"
      ]
     },
     "metadata": {},
     "output_type": "display_data"
    }
   ],
   "source": [
    "#sort the df\n",
    "df6_sorted = df6.sort_values(by='percent_higher_male', ascending=True)\n",
    "\n",
    "plt.figure(figsize=(10, 10))\n",
    "plt.barh(df6_sorted['state'], df6_sorted['percent_higher_male'])  # Horizontal bar plot\n",
    "plt.title('Percentage of Years with Higher Male Scores by State')  # Adding a title\n",
    "plt.xlabel('Percent Male Higher')  # Labeling the x-axis\n",
    "plt.ylabel('State')  # Labeling the y-axis\n",
    "plt.show()\n"
   ]
  },
  {
   "cell_type": "markdown",
   "metadata": {},
   "source": [
    "## 2.7 Use a subquery to create an indicator and group by that indicator (6 points)\n",
    "\n",
    "The following states were the first 6 to expand the right to vote to women before the uniform federal expansion in 1920\n",
    "\n",
    "- Wyoming 1890\n",
    "- Colorado 1893\n",
    "- Utah 1896\n",
    "- Idaho 1896\n",
    "- Washington 1910\n",
    "- California 1911\n",
    "\n",
    "**A.** Create an indicator `is_early_voter` for whether a state is in that list or not; do so without typing the state names inside the string and instead collapsing the list of states we provide and using something like `format`. Hint on how to combine the state names while preserving the quotes around each: https://stackoverflow.com/questions/12007686/join-a-list-of-strings-in-python-and-wrap-each-string-in-quotation-marks \n",
    "\n",
    "**B.** Then, group by the `is_early_voter` indicator and `year` and find the percencentage of states in each group where males had higher scores than females \n",
    "\n",
    "**C.** Print the resulting dataframe and interpret. Does early expansion of voting seem to be correlated with girls scoring better on the math tests a century later?\n",
    "\n",
    "**Hint:** in order to group by the indicator in step b, you may need to use a subquery "
   ]
  },
  {
   "cell_type": "code",
   "execution_count": 10,
   "metadata": {},
   "outputs": [
    {
     "data": {
      "text/html": [
       "<div>\n",
       "<style scoped>\n",
       "    .dataframe tbody tr th:only-of-type {\n",
       "        vertical-align: middle;\n",
       "    }\n",
       "\n",
       "    .dataframe tbody tr th {\n",
       "        vertical-align: top;\n",
       "    }\n",
       "\n",
       "    .dataframe thead th {\n",
       "        text-align: right;\n",
       "    }\n",
       "</style>\n",
       "<table border=\"1\" class=\"dataframe\">\n",
       "  <thead>\n",
       "    <tr style=\"text-align: right;\">\n",
       "      <th></th>\n",
       "      <th>state</th>\n",
       "      <th>is_early_voter</th>\n",
       "    </tr>\n",
       "  </thead>\n",
       "  <tbody>\n",
       "    <tr>\n",
       "      <th>0</th>\n",
       "      <td>Alaska</td>\n",
       "      <td>0</td>\n",
       "    </tr>\n",
       "    <tr>\n",
       "      <th>1</th>\n",
       "      <td>Alabama</td>\n",
       "      <td>0</td>\n",
       "    </tr>\n",
       "    <tr>\n",
       "      <th>2</th>\n",
       "      <td>Arkansas</td>\n",
       "      <td>0</td>\n",
       "    </tr>\n",
       "    <tr>\n",
       "      <th>3</th>\n",
       "      <td>Arizona</td>\n",
       "      <td>0</td>\n",
       "    </tr>\n",
       "    <tr>\n",
       "      <th>4</th>\n",
       "      <td>California</td>\n",
       "      <td>1</td>\n",
       "    </tr>\n",
       "    <tr>\n",
       "      <th>5</th>\n",
       "      <td>Colorado</td>\n",
       "      <td>1</td>\n",
       "    </tr>\n",
       "    <tr>\n",
       "      <th>6</th>\n",
       "      <td>Connecticut</td>\n",
       "      <td>0</td>\n",
       "    </tr>\n",
       "    <tr>\n",
       "      <th>7</th>\n",
       "      <td>Delaware</td>\n",
       "      <td>0</td>\n",
       "    </tr>\n",
       "    <tr>\n",
       "      <th>8</th>\n",
       "      <td>Florida</td>\n",
       "      <td>0</td>\n",
       "    </tr>\n",
       "    <tr>\n",
       "      <th>9</th>\n",
       "      <td>Georgia</td>\n",
       "      <td>0</td>\n",
       "    </tr>\n",
       "    <tr>\n",
       "      <th>10</th>\n",
       "      <td>Hawaii</td>\n",
       "      <td>0</td>\n",
       "    </tr>\n",
       "    <tr>\n",
       "      <th>11</th>\n",
       "      <td>Iowa</td>\n",
       "      <td>0</td>\n",
       "    </tr>\n",
       "    <tr>\n",
       "      <th>12</th>\n",
       "      <td>Idaho</td>\n",
       "      <td>1</td>\n",
       "    </tr>\n",
       "    <tr>\n",
       "      <th>13</th>\n",
       "      <td>Illinois</td>\n",
       "      <td>0</td>\n",
       "    </tr>\n",
       "    <tr>\n",
       "      <th>14</th>\n",
       "      <td>Indiana</td>\n",
       "      <td>0</td>\n",
       "    </tr>\n",
       "    <tr>\n",
       "      <th>15</th>\n",
       "      <td>Kansas</td>\n",
       "      <td>0</td>\n",
       "    </tr>\n",
       "    <tr>\n",
       "      <th>16</th>\n",
       "      <td>Kentucky</td>\n",
       "      <td>0</td>\n",
       "    </tr>\n",
       "    <tr>\n",
       "      <th>17</th>\n",
       "      <td>Louisiana</td>\n",
       "      <td>0</td>\n",
       "    </tr>\n",
       "    <tr>\n",
       "      <th>18</th>\n",
       "      <td>Massachusetts</td>\n",
       "      <td>0</td>\n",
       "    </tr>\n",
       "    <tr>\n",
       "      <th>19</th>\n",
       "      <td>Maryland</td>\n",
       "      <td>0</td>\n",
       "    </tr>\n",
       "    <tr>\n",
       "      <th>20</th>\n",
       "      <td>Maine</td>\n",
       "      <td>0</td>\n",
       "    </tr>\n",
       "    <tr>\n",
       "      <th>21</th>\n",
       "      <td>Michigan</td>\n",
       "      <td>0</td>\n",
       "    </tr>\n",
       "    <tr>\n",
       "      <th>22</th>\n",
       "      <td>Minnesota</td>\n",
       "      <td>0</td>\n",
       "    </tr>\n",
       "    <tr>\n",
       "      <th>23</th>\n",
       "      <td>Missouri</td>\n",
       "      <td>0</td>\n",
       "    </tr>\n",
       "    <tr>\n",
       "      <th>24</th>\n",
       "      <td>Mississippi</td>\n",
       "      <td>0</td>\n",
       "    </tr>\n",
       "    <tr>\n",
       "      <th>25</th>\n",
       "      <td>Montana</td>\n",
       "      <td>0</td>\n",
       "    </tr>\n",
       "    <tr>\n",
       "      <th>26</th>\n",
       "      <td>North Carolina</td>\n",
       "      <td>0</td>\n",
       "    </tr>\n",
       "    <tr>\n",
       "      <th>27</th>\n",
       "      <td>North Dakota</td>\n",
       "      <td>0</td>\n",
       "    </tr>\n",
       "    <tr>\n",
       "      <th>28</th>\n",
       "      <td>Nebraska</td>\n",
       "      <td>0</td>\n",
       "    </tr>\n",
       "    <tr>\n",
       "      <th>29</th>\n",
       "      <td>New Hampshire</td>\n",
       "      <td>0</td>\n",
       "    </tr>\n",
       "    <tr>\n",
       "      <th>30</th>\n",
       "      <td>New Jersey</td>\n",
       "      <td>0</td>\n",
       "    </tr>\n",
       "    <tr>\n",
       "      <th>31</th>\n",
       "      <td>New Mexico</td>\n",
       "      <td>0</td>\n",
       "    </tr>\n",
       "    <tr>\n",
       "      <th>32</th>\n",
       "      <td>Nevada</td>\n",
       "      <td>0</td>\n",
       "    </tr>\n",
       "    <tr>\n",
       "      <th>33</th>\n",
       "      <td>New York</td>\n",
       "      <td>0</td>\n",
       "    </tr>\n",
       "    <tr>\n",
       "      <th>34</th>\n",
       "      <td>Ohio</td>\n",
       "      <td>0</td>\n",
       "    </tr>\n",
       "    <tr>\n",
       "      <th>35</th>\n",
       "      <td>Oklahoma</td>\n",
       "      <td>0</td>\n",
       "    </tr>\n",
       "    <tr>\n",
       "      <th>36</th>\n",
       "      <td>Oregon</td>\n",
       "      <td>0</td>\n",
       "    </tr>\n",
       "    <tr>\n",
       "      <th>37</th>\n",
       "      <td>Pennsylvania</td>\n",
       "      <td>0</td>\n",
       "    </tr>\n",
       "    <tr>\n",
       "      <th>38</th>\n",
       "      <td>Rhode Island</td>\n",
       "      <td>0</td>\n",
       "    </tr>\n",
       "    <tr>\n",
       "      <th>39</th>\n",
       "      <td>South Carolina</td>\n",
       "      <td>0</td>\n",
       "    </tr>\n",
       "    <tr>\n",
       "      <th>40</th>\n",
       "      <td>South Dakota</td>\n",
       "      <td>0</td>\n",
       "    </tr>\n",
       "    <tr>\n",
       "      <th>41</th>\n",
       "      <td>Tennessee</td>\n",
       "      <td>0</td>\n",
       "    </tr>\n",
       "    <tr>\n",
       "      <th>42</th>\n",
       "      <td>Texas</td>\n",
       "      <td>0</td>\n",
       "    </tr>\n",
       "    <tr>\n",
       "      <th>43</th>\n",
       "      <td>Utah</td>\n",
       "      <td>1</td>\n",
       "    </tr>\n",
       "    <tr>\n",
       "      <th>44</th>\n",
       "      <td>Virginia</td>\n",
       "      <td>0</td>\n",
       "    </tr>\n",
       "    <tr>\n",
       "      <th>45</th>\n",
       "      <td>Vermont</td>\n",
       "      <td>0</td>\n",
       "    </tr>\n",
       "    <tr>\n",
       "      <th>46</th>\n",
       "      <td>Washington</td>\n",
       "      <td>1</td>\n",
       "    </tr>\n",
       "    <tr>\n",
       "      <th>47</th>\n",
       "      <td>Wisconsin</td>\n",
       "      <td>0</td>\n",
       "    </tr>\n",
       "    <tr>\n",
       "      <th>48</th>\n",
       "      <td>West Virginia</td>\n",
       "      <td>0</td>\n",
       "    </tr>\n",
       "    <tr>\n",
       "      <th>49</th>\n",
       "      <td>Wyoming</td>\n",
       "      <td>1</td>\n",
       "    </tr>\n",
       "  </tbody>\n",
       "</table>\n",
       "</div>"
      ],
      "text/plain": [
       "             state  is_early_voter\n",
       "0           Alaska               0\n",
       "1          Alabama               0\n",
       "2         Arkansas               0\n",
       "3          Arizona               0\n",
       "4       California               1\n",
       "5         Colorado               1\n",
       "6      Connecticut               0\n",
       "7         Delaware               0\n",
       "8          Florida               0\n",
       "9          Georgia               0\n",
       "10          Hawaii               0\n",
       "11            Iowa               0\n",
       "12           Idaho               1\n",
       "13        Illinois               0\n",
       "14         Indiana               0\n",
       "15          Kansas               0\n",
       "16        Kentucky               0\n",
       "17       Louisiana               0\n",
       "18   Massachusetts               0\n",
       "19        Maryland               0\n",
       "20           Maine               0\n",
       "21        Michigan               0\n",
       "22       Minnesota               0\n",
       "23        Missouri               0\n",
       "24     Mississippi               0\n",
       "25         Montana               0\n",
       "26  North Carolina               0\n",
       "27    North Dakota               0\n",
       "28        Nebraska               0\n",
       "29   New Hampshire               0\n",
       "30      New Jersey               0\n",
       "31      New Mexico               0\n",
       "32          Nevada               0\n",
       "33        New York               0\n",
       "34            Ohio               0\n",
       "35        Oklahoma               0\n",
       "36          Oregon               0\n",
       "37    Pennsylvania               0\n",
       "38    Rhode Island               0\n",
       "39  South Carolina               0\n",
       "40    South Dakota               0\n",
       "41       Tennessee               0\n",
       "42           Texas               0\n",
       "43            Utah               1\n",
       "44        Virginia               0\n",
       "45         Vermont               0\n",
       "46      Washington               1\n",
       "47       Wisconsin               0\n",
       "48   West Virginia               0\n",
       "49         Wyoming               1"
      ]
     },
     "execution_count": 10,
     "metadata": {},
     "output_type": "execute_result"
    }
   ],
   "source": [
    "## list of states we provide\n",
    "list_suffrage = [\"Wyoming\", \"Colorado\", \"Utah\", \"Idaho\", \"Washington\", \n",
    "                \"California\"]\n",
    "\n",
    "#A\n",
    "#using help from stack overflow\n",
    "#combine state names whilst preserving quotes\n",
    "combined_list_suffrage = ', '.join(f\"'{state}'\" for state in list_suffrage)\n",
    "\n",
    "#create indicator\n",
    "part7 = f\"\"\"\n",
    "SELECT state, \n",
    "       CASE WHEN state IN ({combined_list_suffrage}) \n",
    "       THEN 1 \n",
    "       ELSE 0 \n",
    "       END AS is_early_voter\n",
    "FROM math_gencompare\n",
    "GROUP BY state;\n",
    "\"\"\"\n",
    "\n",
    "#read as pandas df\n",
    "df7 = pd.read_sql_query(part7, census)\n",
    "\n",
    "df7"
   ]
  },
  {
   "cell_type": "code",
   "execution_count": 14,
   "metadata": {},
   "outputs": [
    {
     "data": {
      "text/html": [
       "<div>\n",
       "<style scoped>\n",
       "    .dataframe tbody tr th:only-of-type {\n",
       "        vertical-align: middle;\n",
       "    }\n",
       "\n",
       "    .dataframe tbody tr th {\n",
       "        vertical-align: top;\n",
       "    }\n",
       "\n",
       "    .dataframe thead th {\n",
       "        text-align: right;\n",
       "    }\n",
       "</style>\n",
       "<table border=\"1\" class=\"dataframe\">\n",
       "  <thead>\n",
       "    <tr style=\"text-align: right;\">\n",
       "      <th></th>\n",
       "      <th>year</th>\n",
       "      <th>is_early_voter</th>\n",
       "      <th>percent_states_male_higher</th>\n",
       "    </tr>\n",
       "  </thead>\n",
       "  <tbody>\n",
       "    <tr>\n",
       "      <th>0</th>\n",
       "      <td>2013</td>\n",
       "      <td>0</td>\n",
       "      <td>59.0909</td>\n",
       "    </tr>\n",
       "    <tr>\n",
       "      <th>1</th>\n",
       "      <td>2013</td>\n",
       "      <td>1</td>\n",
       "      <td>83.3333</td>\n",
       "    </tr>\n",
       "    <tr>\n",
       "      <th>2</th>\n",
       "      <td>2015</td>\n",
       "      <td>0</td>\n",
       "      <td>54.5455</td>\n",
       "    </tr>\n",
       "    <tr>\n",
       "      <th>3</th>\n",
       "      <td>2015</td>\n",
       "      <td>1</td>\n",
       "      <td>66.6667</td>\n",
       "    </tr>\n",
       "    <tr>\n",
       "      <th>4</th>\n",
       "      <td>2017</td>\n",
       "      <td>0</td>\n",
       "      <td>54.5455</td>\n",
       "    </tr>\n",
       "    <tr>\n",
       "      <th>5</th>\n",
       "      <td>2017</td>\n",
       "      <td>1</td>\n",
       "      <td>83.3333</td>\n",
       "    </tr>\n",
       "    <tr>\n",
       "      <th>6</th>\n",
       "      <td>2019</td>\n",
       "      <td>0</td>\n",
       "      <td>27.2727</td>\n",
       "    </tr>\n",
       "    <tr>\n",
       "      <th>7</th>\n",
       "      <td>2019</td>\n",
       "      <td>1</td>\n",
       "      <td>50.0000</td>\n",
       "    </tr>\n",
       "  </tbody>\n",
       "</table>\n",
       "</div>"
      ],
      "text/plain": [
       "   year  is_early_voter  percent_states_male_higher\n",
       "0  2013               0                     59.0909\n",
       "1  2013               1                     83.3333\n",
       "2  2015               0                     54.5455\n",
       "3  2015               1                     66.6667\n",
       "4  2017               0                     54.5455\n",
       "5  2017               1                     83.3333\n",
       "6  2019               0                     27.2727\n",
       "7  2019               1                     50.0000"
      ]
     },
     "execution_count": 14,
     "metadata": {},
     "output_type": "execute_result"
    }
   ],
   "source": [
    "#B\n",
    "#create indicator\n",
    "part7b = f\"\"\"\n",
    "SELECT year,is_early_voter,\n",
    "AVG(CASE WHEN percent_higher_male > 50 \n",
    "THEN 100 \n",
    "ELSE 0 \n",
    "END) AS percent_states_male_higher\n",
    "FROM (\n",
    "SELECT year, state, \n",
    "AVG(CASE WHEN male > female \n",
    "THEN 100 \n",
    "ELSE 0 \n",
    "END) AS percent_higher_male,\n",
    "CASE \n",
    "WHEN state IN ({combined_list_suffrage}) \n",
    "THEN 1 \n",
    "ELSE 0 \n",
    "END AS is_early_voter\n",
    "FROM math_gencompare\n",
    "GROUP BY year, state\n",
    ") AS subquery\n",
    "GROUP BY year, is_early_voter;\n",
    "\"\"\"\n",
    "\n",
    "#C \n",
    "#read into pandas df\n",
    "df7b = pd.read_sql_query(part7b, census)\n",
    "\n",
    "#Print \n",
    "df7b\n"
   ]
  },
  {
   "cell_type": "markdown",
   "metadata": {},
   "source": [
    "## INTERPRET HERE"
   ]
  },
  {
   "cell_type": "markdown",
   "metadata": {},
   "source": [
    "# 3. Explore variation in math score disparities and trends (18 points)"
   ]
  },
  {
   "cell_type": "markdown",
   "metadata": {},
   "source": [
    "## 3.0 Read in the `acs_wmath.pkl` file (csv is backup) (0 points)"
   ]
  },
  {
   "cell_type": "code",
   "execution_count": null,
   "metadata": {},
   "outputs": [],
   "source": [
    "## your code here"
   ]
  },
  {
   "cell_type": "markdown",
   "metadata": {},
   "source": [
    "## 3.1 Create a visualization where one axis is the state; the other axis is the male 2013 math scores - the female 2013 math scores (gender disparity) (2 points)\n",
    "\n",
    "\n",
    "You have free rein over additional details but make sure it is informative over what direction of disparity positive versus negative values mean\n"
   ]
  },
  {
   "cell_type": "code",
   "execution_count": null,
   "metadata": {},
   "outputs": [],
   "source": [
    "## your code here"
   ]
  },
  {
   "cell_type": "markdown",
   "metadata": {},
   "source": [
    "## 3.2 Examine gender disparity in relation to household income (6 points)\n",
    "\n",
    "**A.** Construct an indicator variable for the state having better performance of males in 2013 than females\n",
    "\n",
    "**B.** First plot a scatterplot (or seaborn regplot) of estimated median household income from the acs data (we provide varname below) vs `math_male_2013`. Then do a second smoothed scatterplot for median household income vs `math_female_2013`.\n",
    "\n",
    "**C.** \n",
    "Then use the `np.corrcoef` command (three separate times) to examine the bivariate correlation of\n",
    "- male performance\n",
    "- female performance\n",
    "- the indicator variable from **A** \n",
    "\n",
    "with median household income (`acspredict_median_household_income_in_the_past_12_months__in_2018_inflation-adjusted_dollars_estimatemedian household income in the past 12 months in 2018 inflationadjusted dollars`)\n",
    "\n",
    "Documentation: https://numpy.org/doc/stable/reference/generated/numpy.corrcoef.html\n",
    "\n",
    "**D.** Interpret the correlations - in states with higher median household income (MHI), do \n",
    "   - boys tend to perform better than boys in states with lower MHI?\n",
    "   - girls tend to perform better than girls in states with lower MHI?\n",
    "   - boys tend to outperform girls more than they do in states with lower MHI?"
   ]
  },
  {
   "cell_type": "code",
   "execution_count": null,
   "metadata": {},
   "outputs": [],
   "source": [
    "# your code here"
   ]
  },
  {
   "cell_type": "markdown",
   "metadata": {},
   "source": [
    "## 3.3 Predicting disparities (10 points)\n",
    "\n",
    "**A.** Read in the raw `acs_wmath` data again (this loses the variables you created above)\n",
    "\n",
    "**B.** Construct a binary indicator variable for male score > female score  for each year - for full credit, do so without repeating the difference code for each of the four years: name these according to following convention: `outcome_male_higher_female_year` where year is 2013, 2015, 2017, or 2019 (e.g., 2013: `outcome_male_higher_female_2013`). After this, remove the raw math scores as columns in the data (so filter out any column with the word math)\n",
    "\n",
    "**C.** Melt the data (`acs_wmath`) to long where instead of wide years, years are repeated within state; the ACS vars will also be repeated since we only pulled one year. In other words, reshape the data from \"wide format\", where each state is a row and we have separate columns for each year, to \"long format\", where states are repeated four times: once for each year in the data (2013, 2015, 2017, 2019). With 50 states, your final shape should be (200,84).\n",
    "- See: https://pandas.pydata.org/docs/reference/api/pandas.melt.html\n",
    "\n",
    "**D.** Split into train-test split at state level (so all years in same state -> either all in train or all test). Randomize 35 states to train; 15 states in test. \n",
    "\n",
    "**E.** Normalize the features to mean 0, variance 1 and estimate a decision tree with a max depth of 5. Your covariates should have the term 'acspredict' in it.\n",
    "\n",
    "- **Hint:** The ML literature recommends using the training set scaler to transform the test set, rather than using a unique scaler to initialize each one. The reasons are discussed here: https://stats.stackexchange.com/questions/495357/why-do-we-normalize-test-data-on-the-parameters-of-the-training-data\n",
    "\n",
    "**F.** Interpret the feature importances\n",
    "\n",
    "**G.** Evaluate the precision and recall of that model in the test set states without using the `score`, `precision`, or `recall` functions in sklearn. Briefly interpret: compared to our class example (a high-dimensional feature matrix of yelp reviews with ~15000 observations), why do you think our models perform worse for this set of data/predictors?\n",
    "\n",
    "**Additional resources:** \n",
    "\n",
    "- Feature normalization: https://scikit-learn.org/stable/modules/preprocessing.html\n",
    "\n",
    "- Definition of precision and recall: https://en.wikipedia.org/wiki/Precision_and_recall"
   ]
  },
  {
   "cell_type": "code",
   "execution_count": null,
   "metadata": {},
   "outputs": [],
   "source": [
    "# A. your code here to load data"
   ]
  },
  {
   "cell_type": "code",
   "execution_count": null,
   "metadata": {},
   "outputs": [],
   "source": [
    "# B. your code here to construct binary indicators for male higher"
   ]
  },
  {
   "cell_type": "code",
   "execution_count": null,
   "metadata": {},
   "outputs": [],
   "source": [
    "# C. your code here to melt data"
   ]
  },
  {
   "cell_type": "code",
   "execution_count": null,
   "metadata": {},
   "outputs": [],
   "source": [
    "# D. your code here for train/test split"
   ]
  },
  {
   "cell_type": "code",
   "execution_count": null,
   "metadata": {},
   "outputs": [],
   "source": [
    "# E. your code here to normalize features and fit model"
   ]
  },
  {
   "cell_type": "code",
   "execution_count": null,
   "metadata": {},
   "outputs": [],
   "source": [
    "# F. your code here to interpret feature importances"
   ]
  },
  {
   "cell_type": "code",
   "execution_count": null,
   "metadata": {},
   "outputs": [],
   "source": [
    "# G. your code here to evaluate model"
   ]
  }
 ],
 "metadata": {
  "kernelspec": {
   "display_name": "Python 3 (ipykernel)",
   "language": "python",
   "name": "python3"
  },
  "language_info": {
   "codemirror_mode": {
    "name": "ipython",
    "version": 3
   },
   "file_extension": ".py",
   "mimetype": "text/x-python",
   "name": "python",
   "nbconvert_exporter": "python",
   "pygments_lexer": "ipython3",
   "version": "3.11.7"
  }
 },
 "nbformat": 4,
 "nbformat_minor": 4
}
